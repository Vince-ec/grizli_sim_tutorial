{
 "cells": [
  {
   "cell_type": "code",
   "execution_count": 1,
   "id": "36509ac2-c5d9-4966-82e2-ff7b6084b39e",
   "metadata": {},
   "outputs": [],
   "source": [
    "import numpy as np\n",
    "import matplotlib.pyplot as plt\n",
    "import seaborn as sea\n",
    "import fsps\n",
    "from grizli import model"
   ]
  },
  {
   "cell_type": "code",
   "execution_count": null,
   "id": "b98130c2-0539-4ee6-8be9-c7c2f28fa940",
   "metadata": {},
   "outputs": [],
   "source": []
  }
 ],
 "metadata": {
  "kernelspec": {
   "display_name": "Python 3 (ipykernel)",
   "language": "python",
   "name": "python3"
  },
  "language_info": {
   "codemirror_mode": {
    "name": "ipython",
    "version": 3
   },
   "file_extension": ".py",
   "mimetype": "text/x-python",
   "name": "python",
   "nbconvert_exporter": "python",
   "pygments_lexer": "ipython3",
   "version": "3.9.7"
  }
 },
 "nbformat": 4,
 "nbformat_minor": 5
}
